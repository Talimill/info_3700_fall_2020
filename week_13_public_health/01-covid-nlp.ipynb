{
 "cells": [
  {
   "cell_type": "code",
   "execution_count": null,
   "metadata": {},
   "outputs": [],
   "source": [
    "import medspacy\n",
    "from medspacy.visualization import visualize_dep, visualize_ent, MedspaCyVisualizerWidget\n",
    "from medspacy.ner import TargetRule\n",
    "from medspacy.context import ConTextItem"
   ]
  },
  {
   "cell_type": "markdown",
   "metadata": {},
   "source": [
    "# COVID-19 NLP Surveillance\n",
    "In this notebook, we will look at how NLP can be used for public health in the context of COVID-19 surveillance. We will use the tools in [medspaCy](https://github.com/medspacy/medspacy) which we saw in Weeks 11-12 to process fictional examples of clinical text which indicate whether or not a patient is positive or negative for COVID-19.\n",
    "\n",
    "# I. Background\n",
    "This example is based on a pipeline deployed at the US Department of Veterans Affairs. This pipeline processes millions of clinical texts to find patients who have tested positive for COVID-19. Watch the video below for an explanation of the need for NLP in COVID-19 surveillance and a description of this system. You can optionally read the published paper as well: [A Natural Language Processing System for National COVID-19 Surveillance in the US Department of Veterans Affairs](https://www.aclweb.org/anthology/2020.nlpcovid19-acl.10/)."
   ]
  },
  {
   "cell_type": "code",
   "execution_count": null,
   "metadata": {},
   "outputs": [],
   "source": [
    "from IPython.display import YouTubeVideo, Image"
   ]
  },
  {
   "cell_type": "code",
   "execution_count": null,
   "metadata": {},
   "outputs": [],
   "source": [
    "YouTubeVideo(\"alBnBPtFEAw\")"
   ]
  },
  {
   "cell_type": "markdown",
   "metadata": {},
   "source": [
    "# II. Clinical Texts\n",
    "In the cell below, we can see a number of short examples of clinical texts mention COVID-19. Before we start building our NLP system, read through the examples and consider the following questions:\n",
    "- What words/phrases are used to describe COVID-19?\n",
    "- Which of the texts mention positive cases of COVID-19? What words in the text tell you whether or not they are positive or negative?"
   ]
  },
  {
   "cell_type": "code",
   "execution_count": null,
   "metadata": {},
   "outputs": [],
   "source": [
    "texts = [\n",
    "    \"The patient is positive for COVID-19.\",\n",
    "    \"The patient's wife tested positive for COVID-19.\",\n",
    "    \"Lab Results: SARS-COV-2 Positive\",\n",
    "    \"He is worried about getting the Wuhan virus.\",\n",
    "    \"Patient presents with concern for novel coronavirus.\",\n",
    "    \"The patient was diagnosed with COVID-19.\",\n",
    "    \"The patient was dx'd with COVID-19.\",\n",
    "    \"Was the patient diagnosed with COVID-19? Y/N\",\n",
    "    \"His neighbor recently got coronavirus.\",\n",
    "    \"His mother lives in a nursing home where there was an outbreak of COVID\",\n",
    "    \"Lab results: SARS-COV-2: (-)\",\n",
    "    \"His SARS-COV-2 test came back positive.\",\n",
    "    \"His SARS-COV-2 test came back negative.\",\n",
    "    \"Neg for COVID.\",\n",
    "    \"Negative for COVID.\",\n",
    "    \"Pt presents to be tested for COVID-19.\",\n",
    "    \"He is worried about getting covid.\",\n",
    "]"
   ]
  },
  {
   "cell_type": "markdown",
   "metadata": {},
   "source": [
    "# III. Defining our NLP Knowledge Base\n",
    "In [Weeks 11-12](../week_11_nlp) we learned how to use NLP for extracting information from clinical text. Two of the tasks we learned how to do included:\n",
    "- Rule-based extraction of medical concepts in text\n",
    "- Finding modifiers in the text which tell us if a concept is negated, uncertain, experienced by someone else, etc.\n",
    "\n",
    "We will use these two NLP components to classify texts as **\"positive\"** or **\"negative\"** for COVID-19. \n",
    "\n",
    "1. Write rules using the `TargetRule` class for extracting mentions of COVID-19\n",
    "2. Write `ConText` rules which define modifiers telling us whether the patient is positive for COVID-19. \n",
    "3. Make a **document classification** based on the entities found in the text. \n",
    "\n",
    "\n",
    "We already saw some examples of modifiers in Week 12: **\"NEGATED_EXISTENCE\"**, **\"POSSIBLE_EXISTENCE\"**, **\"FAMILY\"**, **\"FUTURE\"** and **\"HISTORICAL\"**. We will also use a category of **\"POSITIVE_EXISTENCE\"** which says whether the patient is explicitly stated to be positive for COVID-19.\n",
    "\n",
    "## Examples\n",
    "Consider these three examples which illustrate why we need to use ConText. All 3 texts mention COVID-19, but only the third one is actually positive.\n",
    "\n",
    "In the first example, the text states that the patient tested \"**positive for**\" COVID-19. This is explicitly stated as being **\"Positive\"**. In the second example, it is explicitly stated as **\"Negative\"**. However, the final example doesn't give any additional information: we don't know if they're positive or negative, so we won't call that patient positive for COVID-19."
   ]
  },
  {
   "cell_type": "code",
   "execution_count": null,
   "metadata": {},
   "outputs": [],
   "source": [
    "Image(\"./images/pos_covid-19_text.png\", width=700)"
   ]
  },
  {
   "cell_type": "code",
   "execution_count": null,
   "metadata": {},
   "outputs": [],
   "source": [
    "Image(\"./images/neg_covid-19_text.png\", width=700)"
   ]
  },
  {
   "cell_type": "code",
   "execution_count": null,
   "metadata": {},
   "outputs": [],
   "source": [
    "Image(\"./images/unk_covid-19_text.png\", width=700)"
   ]
  },
  {
   "cell_type": "markdown",
   "metadata": {},
   "source": [
    "## Define NLP Rules\n",
    "### TODO"
   ]
  },
  {
   "cell_type": "markdown",
   "metadata": {},
   "source": [
    "In the cells below, define `TargetRules` which define mentions of \"COVID-19\" and `ConTextItems` which define modifiers such as **\"Positive for\"** and **\"Negative for\"**. For a review of how to use these two classes, see the notebooks in [Weeks 11-12](../week_11_nlp).\n",
    "\n",
    "For `target_rules`, the only category you need to define is **\"COVID-19\"**.\n",
    "\n",
    "For `context_rules`, use the following categories for your modifier categories:\n",
    "- **\"POSITIVE_EXISTENCE\"**: The text explicitly states the patient has COVID-19\n",
    "- **\"NEGATED_EXISTENCE\"**: The text explicitly states the patient **does not** have COVID-19\n",
    "- **\"POSSIBLE_EXISTENCE\"**: There is a possibility that the patient has COVID-19\n",
    "- **\"FAMILY\"**: Someone other than the patient has COVID-19\n",
    "- **\"FUTURE\"**: The text is discussing a hypothetical situation"
   ]
  },
  {
   "cell_type": "code",
   "execution_count": null,
   "metadata": {},
   "outputs": [],
   "source": [
    "target_rules = [\n",
    "    TargetRule(\"COVID-19\", \"COVID-19\"),\n",
    "]"
   ]
  },
  {
   "cell_type": "code",
   "execution_count": null,
   "metadata": {},
   "outputs": [],
   "source": [
    "context_rules = [\n",
    "    ConTextItem(\"Positive for\", \"POSITIVE_EXISTENCE\", rule=\"FORWARD\"),\n",
    "]"
   ]
  },
  {
   "cell_type": "markdown",
   "metadata": {},
   "source": [
    "# IV. Build our NLP Model and Process Texts\n",
    "Now that we have our rules defined, we can load a model using `medspacy` and add our rules to the appropriate components. We'll then call `nlp.pipe(texts)` to create our processed docs."
   ]
  },
  {
   "cell_type": "code",
   "execution_count": null,
   "metadata": {},
   "outputs": [],
   "source": [
    "nlp = medspacy.load(load_rules=False)"
   ]
  },
  {
   "cell_type": "code",
   "execution_count": null,
   "metadata": {},
   "outputs": [],
   "source": [
    "nlp.pipe_names"
   ]
  },
  {
   "cell_type": "code",
   "execution_count": null,
   "metadata": {},
   "outputs": [],
   "source": [
    "target_matcher = nlp.get_pipe(\"target_matcher\")\n",
    "target_matcher.add(target_rules)"
   ]
  },
  {
   "cell_type": "code",
   "execution_count": null,
   "metadata": {},
   "outputs": [],
   "source": [
    "context = nlp.get_pipe(\"context\")\n",
    "context.add(context_rules)"
   ]
  },
  {
   "cell_type": "code",
   "execution_count": null,
   "metadata": {},
   "outputs": [],
   "source": [
    "docs = list(nlp.pipe(texts))"
   ]
  },
  {
   "cell_type": "code",
   "execution_count": null,
   "metadata": {},
   "outputs": [],
   "source": [
    "docs"
   ]
  },
  {
   "cell_type": "markdown",
   "metadata": {},
   "source": [
    "## Document Classification\n",
    "After extracting COVID-19 and analyzing the context, We will use a simple classification schema to decide whether or not a text is positive or negative:\n",
    "   - If there is at least one mention of COVID-19 which is not negated, uncertain, etc... **and** is modified by **\"POSITIVE_EXISTENCE\"**, then predict **\"Positive\"**\n",
    "   - If there are no mentions of COVID-19, or only mentions which are negated/uncertain or are not positive, then predict **\"Negative\"**\n",
    "   \n",
    "The functions below implement this logic."
   ]
  },
  {
   "cell_type": "code",
   "execution_count": null,
   "metadata": {},
   "outputs": [],
   "source": [
    "def classify_doc(doc):\n",
    "    \"\"\"Classify a doc as either 'Positive' or 'Negative' for COVID-19.\n",
    "    A doc will be called positive if there is at least one mention of \n",
    "    COVID-19 which is not negated, uncertain, etc... \n",
    "    and is modified by \"POSITIVE_EXISTENCE\".\n",
    "    \n",
    "    Otherwise, the doc will be called 'Negative'\n",
    "    \"\"\"\n",
    "    for ent in doc.ents:\n",
    "        if ent.label_ != \"COVID-19\":\n",
    "            continue\n",
    "        if not any([ent._.is_negated, ent._.is_historical, \n",
    "                    ent._.is_family, ent._.is_uncertain, \n",
    "                    ent._.is_hypothetical]):\n",
    "            if is_modified_by(ent, \"POSITIVE_EXISTENCE\"):\n",
    "                return \"Positive\"\n",
    "    return \"Negative\"\n",
    "        \n",
    "def is_modified_by(ent, category):\n",
    "    \"\"\"Helper function to check whether an entity is \n",
    "    modified by a certain category with ConText.\"\"\"\n",
    "    for modifier in ent._.modifiers:\n",
    "        if modifier.category == category:\n",
    "            return True\n",
    "    return False"
   ]
  },
  {
   "cell_type": "markdown",
   "metadata": {},
   "source": [
    "Now we'll use this function to separate our docs into positive and negative docs:"
   ]
  },
  {
   "cell_type": "code",
   "execution_count": null,
   "metadata": {},
   "outputs": [],
   "source": [
    "pos_docs = []\n",
    "neg_docs = []\n",
    "for doc in docs:\n",
    "    if classify_doc(doc) == \"Positive\":\n",
    "        pos_docs.append(doc)\n",
    "    if classify_doc(doc) == \"Negative\":\n",
    "        neg_docs.append(doc)"
   ]
  },
  {
   "cell_type": "markdown",
   "metadata": {},
   "source": [
    "# V. Review Output and Fix Mistakes\n",
    "Now let's review our NLP output and document classifications. Like we've done in previous notebooks, go through the docs using either a widget or manually visualizing each one and look for mistakes. For each doc that you see, ask the following questions:\n",
    "- Did the NLP extract all the mentions of COVID-19? Did it miss anything? If so, you'll need to add some additional phrases to `target_rules`\n",
    "- Did the NLP correctly identify modifiers in the text for positive/negative/certainty? If not, add additional rules to `context_rules`\n",
    "- Was the document correctly classified as positive or negative? If not, why?\n",
    "\n",
    "Update the rules and then rerun starting at **Section IV** to rebuild your model and reprocess your texts. Iterate until you've correctly classified each of the texts."
   ]
  },
  {
   "cell_type": "code",
   "execution_count": null,
   "metadata": {},
   "outputs": [],
   "source": [
    "pos_docs"
   ]
  },
  {
   "cell_type": "code",
   "execution_count": null,
   "metadata": {},
   "outputs": [],
   "source": [
    "w_pos = medspacy.visualization.MedspaCyVisualizerWidget(pos_docs)\n",
    "# visualize_ent(pos_docs[0])"
   ]
  },
  {
   "cell_type": "code",
   "execution_count": null,
   "metadata": {},
   "outputs": [],
   "source": [
    "neg_docs"
   ]
  },
  {
   "cell_type": "code",
   "execution_count": null,
   "metadata": {},
   "outputs": [],
   "source": [
    "w_neg = medspacy.visualization.MedspaCyVisualizerWidget(neg_docs)"
   ]
  },
  {
   "cell_type": "code",
   "execution_count": null,
   "metadata": {},
   "outputs": [],
   "source": []
  }
 ],
 "metadata": {
  "kernelspec": {
   "display_name": "Python 3",
   "language": "python",
   "name": "python3"
  },
  "language_info": {
   "codemirror_mode": {
    "name": "ipython",
    "version": 3
   },
   "file_extension": ".py",
   "mimetype": "text/x-python",
   "name": "python",
   "nbconvert_exporter": "python",
   "pygments_lexer": "ipython3",
   "version": "3.8.5"
  }
 },
 "nbformat": 4,
 "nbformat_minor": 4
}
